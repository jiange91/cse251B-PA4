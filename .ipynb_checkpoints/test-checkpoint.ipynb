{
 "cells": [
  {
   "cell_type": "code",
   "execution_count": 2,
   "metadata": {},
   "outputs": [],
   "source": [
    "import torch\n",
    "import numpy as np\n",
    "import torch.nn.functional as F\n",
    "import torch.nn as nn\n",
    "from models import *\n",
    "import vocab\n",
    "from experiment import Experiment"
   ]
  },
  {
   "cell_type": "code",
   "execution_count": 3,
   "metadata": {},
   "outputs": [],
   "source": [
    "vocab_size = 2000"
   ]
  },
  {
   "cell_type": "code",
   "execution_count": 5,
   "metadata": {},
   "outputs": [
    {
     "name": "stderr",
     "output_type": "stream",
     "text": [
      "Downloading: \"https://download.pytorch.org/models/resnet50-19c8e357.pth\" to /users/Zijian/.cache/torch/checkpoints/resnet50-19c8e357.pth\n",
      "100%|██████████| 97.8M/97.8M [00:00<00:00, 114MB/s] \n"
     ]
    }
   ],
   "source": [
    "model = BaseLine(vocab_size, 300, 512)"
   ]
  },
  {
   "cell_type": "code",
   "execution_count": 6,
   "metadata": {},
   "outputs": [
    {
     "data": {
      "text/plain": [
       "torch.Size([2, 32, 2000])"
      ]
     },
     "execution_count": 6,
     "metadata": {},
     "output_type": "execute_result"
    }
   ],
   "source": [
    "img = torch.rand((2, 3, 256, 256))\n",
    "caption = torch.randint(0, vocab_size, (2, 32))\n",
    "\n",
    "scores = model(img, caption)\n",
    "scores.size()"
   ]
  },
  {
   "cell_type": "code",
   "execution_count": 8,
   "metadata": {},
   "outputs": [
    {
     "data": {
      "text/plain": [
       "tensor([[ 156,  957,  768, 1077,  835, 1526, 1351,   59, 1340,  317,   55,  243,\n",
       "         1571,  224, 1305,  473,  864, 1710,  452,  820],\n",
       "        [ 787,  656,  375, 1416,  699,  560,  486,  751, 1120,  321,  377, 1031,\n",
       "          483, 1506, 1990, 1479,  739,  125,  314,  623]])"
      ]
     },
     "execution_count": 8,
     "metadata": {},
     "output_type": "execute_result"
    }
   ],
   "source": [
    "model.generate(img, 20, 0.5)"
   ]
  },
  {
   "cell_type": "code",
   "execution_count": 4,
   "metadata": {},
   "outputs": [
    {
     "name": "stdout",
     "output_type": "stream",
     "text": [
      "Using the saved vocab.\n"
     ]
    }
   ],
   "source": [
    "v = vocab.load_vocab(\"./data/annotations/captions_train2014.json\", 2)"
   ]
  },
  {
   "cell_type": "code",
   "execution_count": 6,
   "metadata": {},
   "outputs": [
    {
     "data": {
      "text/plain": [
       "14463"
      ]
     },
     "execution_count": 6,
     "metadata": {},
     "output_type": "execute_result"
    }
   ],
   "source": [
    "len(v)"
   ]
  },
  {
   "cell_type": "code",
   "execution_count": 12,
   "metadata": {},
   "outputs": [
    {
     "name": "stdout",
     "output_type": "stream",
     "text": [
      "['sorts', 'booster', 'crates', 'sprays', 'ranchers', 'dell', 'utter', 'ref', 'mull', 'drops', 'dome', '1876', 'clocked', 'who', 'tics', 'dolphins', 'cardiff', 'indians', 'skie', 'shrub']\n",
      "['sprayer', 'staining', 'titans', 'barking', 'flier', 'baggage', 'topics', 'villagers', 'slows', 'landed', 'rowboats', 'dill', 'briskly', 'golden', 'laughing', 'commands', 'transfer', 'psychedelic', 'plows', 'gracefully']\n"
     ]
    }
   ],
   "source": []
  },
  {
   "cell_type": "code",
   "execution_count": null,
   "metadata": {},
   "outputs": [],
   "source": []
  }
 ],
 "metadata": {
  "kernelspec": {
   "display_name": "Python 3",
   "language": "python",
   "name": "python3"
  },
  "language_info": {
   "codemirror_mode": {
    "name": "ipython",
    "version": 3
   },
   "file_extension": ".py",
   "mimetype": "text/x-python",
   "name": "python",
   "nbconvert_exporter": "python",
   "pygments_lexer": "ipython3",
   "version": "3.6.13"
  }
 },
 "nbformat": 4,
 "nbformat_minor": 2
}
